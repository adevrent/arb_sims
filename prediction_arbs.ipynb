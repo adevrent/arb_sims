{
 "cells": [
  {
   "cell_type": "markdown",
   "metadata": {},
   "source": [
    "## Code for arbing binary option markets / prediction markets"
   ]
  },
  {
   "cell_type": "code",
   "execution_count": null,
   "metadata": {},
   "outputs": [],
   "source": [
    "class predArb(object):\n",
    "    def __init__(self, marketarr_1, marketarr_2, fee):\n",
    "        \"\"\"Prices of the up state and down state in two different markets.\n",
    "\n",
    "        Args:\n",
    "            marketarr_1 (listlike): Price of the two sides of the bet in the first market in the form of [p, 1-p]\n",
    "                where values are per 1$ and can be thought of as probabilities.\n",
    "            marketarr_2 (listlike): Same as above and for the second market.\n",
    "        \"\"\"\n",
    "        \n",
    "        self.marketarr_1 = marketarr_1\n",
    "        self.marketarr_2 = marketarr_2\n",
    "        \n",
    "        self.arbvalue = abs(marketarr_1[0] - marketarr_2[0])  # arb value per 2$ or a single arb trade.\n",
    "        self.unit_arbvalue = self.arbvalue / 2  # arb value per $\n",
    "        \n",
    "        "
   ]
  }
 ],
 "metadata": {
  "language_info": {
   "name": "python"
  }
 },
 "nbformat": 4,
 "nbformat_minor": 2
}
