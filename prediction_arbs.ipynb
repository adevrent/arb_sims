{
 "cells": [
  {
   "cell_type": "markdown",
   "metadata": {},
   "source": [
    "## Code for arbing binary option markets / prediction markets"
   ]
  },
  {
   "cell_type": "code",
   "execution_count": null,
   "metadata": {},
   "outputs": [],
   "source": [
    "class predArb(object):\n",
    "    def __init__(self, marketarr_1, marketarr_2, fee=0):\n",
    "        \"\"\"Prices of the up state and down state in two different markets.\n",
    "\n",
    "        Args:\n",
    "            marketarr_1 (listlike): Price of the two sides of the bet in the first market in the form of [p, q] where p+q is close to 1.\n",
    "            marketarr_2 (listlike): Same as above and for the second market.\n",
    "        \"\"\"\n",
    "        \n",
    "        self.marketarr_1 = marketarr_1\n",
    "        self.marketarr_2 = marketarr_2\n",
    "        \n",
    "        self.arbvalue = 1 - (min(marketarr_1[0], marketarr_2[0]) + min(marketarr_1[1], marketarr_2[1]))  # net profit per 2$ or a single arb trade.\n",
    "        self.unit_arbvalue = self.arbvalue / 2  # arb value per $\n",
    "        \n",
    "        self.fee = fee\n",
    "        \n",
    "    def getArbValue(self):\n",
    "        print(f\"Net profit per 2$ is ${self.arbvalue}\")\n",
    "    \n",
    "        \n",
    "        "
   ]
  },
  {
   "cell_type": "code",
   "execution_count": null,
   "metadata": {},
   "outputs": [],
   "source": []
  }
 ],
 "metadata": {
  "language_info": {
   "name": "python"
  }
 },
 "nbformat": 4,
 "nbformat_minor": 2
}
