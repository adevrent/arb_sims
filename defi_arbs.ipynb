{
 "cells": [
  {
   "cell_type": "code",
   "execution_count": 3,
   "metadata": {},
   "outputs": [],
   "source": [
    "import random\n",
    "import numpy as np\n",
    "import matplotlib.pyplot as plt"
   ]
  },
  {
   "cell_type": "code",
   "execution_count": 4,
   "metadata": {},
   "outputs": [],
   "source": [
    "def arbsim(token_price, max_range, spread, gas_fee, slippage, fee, token_amount):\n",
    "    \"\"\"Calculates mean profit for an arbitrage strategy, assuming 100 buy/sell pairs.\n",
    "\n",
    "    Args:\n",
    "        token_price (float): price of token in $.\n",
    "        max_range (float): difference between high and low in 1m candle, in $.\n",
    "        spread (float): absolute value of the difference between the price of token in 2 different exchanges, in $.\n",
    "        gas_fee (float): gas fee per transaction in $.\n",
    "        slippage (float): your slippage as a ratio (between 0.00 and 0.99).\n",
    "        fee (float): fee amount as a ratio of token.\n",
    "        token_amount (int): number of tokens per transaction.\n",
    "    \"\"\"\n",
    "    vol_range = []  # Range of every 1min candle.\n",
    "    for i in range(0, 101):\n",
    "        x = random.uniform(-max_range, max_range)\n",
    "        vol_range.append(x)\n",
    "    profit = []\n",
    "    for vol in vol_range:\n",
    "        y = token_amount*spread + token_amount*vol - (2*gas_fee) - (2*slippage*token_price*token_amount) - (2*token_amount*token_price*fee)\n",
    "        profit.append(y)\n",
    "    print(\"Mean profit is\", round(np.mean(profit), 4), \"dollars for\", token_amount, \"tokens.\")\n",
    "    # plt.plot(profit)\n",
    "    # return np.mean(profit)\n",
    "\n",
    "def testArbsim(test_list):\n",
    "    \"\"\"_summary_\n",
    "\n",
    "    Args:\n",
    "        test_list (list): a list of 5 element tuples (positional arguments for function arbsim)\n",
    "    \"\"\"\n",
    "    for arguments in test_list:\n",
    "        arbsim(*arguments)"
   ]
  },
  {
   "cell_type": "code",
   "execution_count": 5,
   "metadata": {},
   "outputs": [
    {
     "name": "stdout",
     "output_type": "stream",
     "text": [
      "Mean profit is -7.302 dollars for 100 tokens.\n"
     ]
    }
   ],
   "source": [
    "mean_profit = arbsim(12.62, 0.00, 0.0027, 0.00000032942, 0.00, 0.003, 100)"
   ]
  }
 ],
 "metadata": {
  "kernelspec": {
   "display_name": "Python 3",
   "language": "python",
   "name": "python3"
  },
  "language_info": {
   "codemirror_mode": {
    "name": "ipython",
    "version": 3
   },
   "file_extension": ".py",
   "mimetype": "text/x-python",
   "name": "python",
   "nbconvert_exporter": "python",
   "pygments_lexer": "ipython3",
   "version": "3.10.5"
  },
  "orig_nbformat": 4
 },
 "nbformat": 4,
 "nbformat_minor": 2
}
