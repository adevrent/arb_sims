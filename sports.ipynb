{
 "cells": [
  {
   "cell_type": "markdown",
   "metadata": {},
   "source": [
    "## Code for arbing binary option markets / prediction markets"
   ]
  },
  {
   "cell_type": "code",
   "execution_count": 47,
   "metadata": {},
   "outputs": [],
   "source": [
    "import numpy as np\n",
    "\n",
    "class binaryArb(object):\n",
    "    def __init__(self, marketarr_1, marketarr_2, fee=0):\n",
    "        \"\"\"Prices of the up state and down state in two different markets.\n",
    "\n",
    "        Args:\n",
    "            marketarr_1 (listlike): Price of the two sides of the bet in the first market in the form of [p, q] where p+q is close to 1.\n",
    "            marketarr_2 (listlike): Same as above and for the second market.\n",
    "            fee (float): fee value as a percentage of the 2$ contract.\n",
    "        \"\"\"\n",
    "        # Convert listlike to numpy array\n",
    "        marketarr_1 = np.array(marketarr_1)\n",
    "        marketarr_2 = np.array(marketarr_2)\n",
    "        \n",
    "        # If given values are eu odds and NOT implied probabilities, convert them to probability values\n",
    "        if np.all(marketarr_1 >= 1):\n",
    "            marketarr_1 = 1 / marketarr_1\n",
    "        if np.all(marketarr_2 >= 1):\n",
    "            marketarr_2 = 1 / marketarr_2\n",
    "        \n",
    "        self.marketarr_1 = marketarr_1\n",
    "        self.marketarr_2 = marketarr_2\n",
    "        \n",
    "        self.arbvalue = 1 - (min(marketarr_1[0], marketarr_2[0]) + min(marketarr_1[1], marketarr_2[1]))  # net profit per 2$ or a single arb trade.\n",
    "        self.unit_arbvalue = self.arbvalue / 2  # arb value per $\n",
    "        \n",
    "        self.fee = fee\n",
    "        \n",
    "    def getArbValue(self, input=2):\n",
    "        print(f\"Net profit per ${input:.0f} = ${(input * 0.5 * self.arbvalue):.3f}\")\n",
    "        \n",
    "    def getOdds(self):\n",
    "        print(f\"Probabilities in the first market: {np.round(self.marketarr_1, 3)}\")\n",
    "        print(f\"Probabilities in the second market: {np.round(self.marketarr_2, 3)}\")"
   ]
  },
  {
   "cell_type": "code",
   "execution_count": 48,
   "metadata": {},
   "outputs": [
    {
     "name": "stdout",
     "output_type": "stream",
     "text": [
      "Net profit per $200 = $-3.000\n"
     ]
    }
   ],
   "source": [
    "bears_vikings = binaryArb([0.44, 0.62], [0.41, 0.64])\n",
    "bears_vikings.getArbValue(200)"
   ]
  },
  {
   "cell_type": "code",
   "execution_count": 49,
   "metadata": {},
   "outputs": [
    {
     "name": "stdout",
     "output_type": "stream",
     "text": [
      "Net profit per $100 = $-2.258\n"
     ]
    }
   ],
   "source": [
    "seahawks_bengals = binaryArb([1.60, 2.35], [1.59, 2.38])\n",
    "seahawks_bengals.getArbValue(100)"
   ]
  },
  {
   "cell_type": "code",
   "execution_count": 50,
   "metadata": {},
   "outputs": [
    {
     "name": "stdout",
     "output_type": "stream",
     "text": [
      "Probabilities in the first market: [0.625 0.426]\n",
      "Probabilities in the second market: [0.629 0.42 ]\n"
     ]
    }
   ],
   "source": [
    "seahawks_bengals.getOdds()"
   ]
  },
  {
   "cell_type": "code",
   "execution_count": 51,
   "metadata": {},
   "outputs": [
    {
     "name": "stdout",
     "output_type": "stream",
     "text": [
      "Net profit per $2 = $-0.050\n"
     ]
    }
   ],
   "source": [
    "raiders_patriots = binaryArb([0.61, 0.44], [1.64, 2.24])\n",
    "raiders_patriots.getArbValue()"
   ]
  },
  {
   "cell_type": "code",
   "execution_count": 52,
   "metadata": {},
   "outputs": [
    {
     "name": "stdout",
     "output_type": "stream",
     "text": [
      "Net profit per $2 = $-0.060\n"
     ]
    }
   ],
   "source": [
    "newyork_lasvegas = binaryArb([1.90, 1.54], [0.47, 0.59])\n",
    "newyork_lasvegas.getArbValue()"
   ]
  },
  {
   "cell_type": "code",
   "execution_count": 53,
   "metadata": {},
   "outputs": [
    {
     "name": "stdout",
     "output_type": "stream",
     "text": [
      "Net profit per $2 = $-0.100\n"
     ]
    }
   ],
   "source": [
    "lgd_keyd = binaryArb([1.03, 4.82], [0.96, 0.14])\n",
    "lgd_keyd.getArbValue()"
   ]
  },
  {
   "cell_type": "code",
   "execution_count": 54,
   "metadata": {},
   "outputs": [
    {
     "name": "stdout",
     "output_type": "stream",
     "text": [
      "Net profit per $2 = $-0.095\n"
     ]
    }
   ],
   "source": [
    "bb_pandas = binaryArb([1.34, 2.51], [1.33, 2.87])\n",
    "bb_pandas.getArbValue()"
   ]
  }
 ],
 "metadata": {
  "kernelspec": {
   "display_name": "Python 3",
   "language": "python",
   "name": "python3"
  },
  "language_info": {
   "codemirror_mode": {
    "name": "ipython",
    "version": 3
   },
   "file_extension": ".py",
   "mimetype": "text/x-python",
   "name": "python",
   "nbconvert_exporter": "python",
   "pygments_lexer": "ipython3",
   "version": "3.10.5"
  }
 },
 "nbformat": 4,
 "nbformat_minor": 2
}
